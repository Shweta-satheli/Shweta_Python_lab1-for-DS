{
 "cells": [
  {
   "cell_type": "markdown",
   "id": "2c8f47d3",
   "metadata": {
    "id": "2c8f47d3"
   },
   "source": [
    "# Lab Session"
   ]
  },
  {
   "cell_type": "markdown",
   "id": "f637aba6",
   "metadata": {
    "id": "f637aba6"
   },
   "source": [
    "## <font color='blue'> Table Of Contents </font>\n",
    "- Problem Statement \n",
    "- Load required libraries\n",
    "- Connect to DB using mysql-connector-python package\n",
    "- Create database named `e_commerce`\n",
    "- Create tables and insert data into tables as specified in the question\n",
    "- Read all the questions and write sql queries to meet the objective "
   ]
  },
  {
   "cell_type": "markdown",
   "id": "1073fc90",
   "metadata": {
    "id": "1073fc90"
   },
   "source": [
    "## <font color='blue'> Problem Statement </font>\n",
    "###  An E-commerce website manages its data in the form of various tables.\n",
    "You need to create a Database called `e_commerce` and various tables in it. The tables needed and attributes which need to be in every table are given before hand. All you have to do is create tables with data in it and answer some of the questions that follows."
   ]
  },
  {
   "cell_type": "markdown",
   "id": "48787355",
   "metadata": {
    "id": "48787355"
   },
   "source": [
    "### e_commerce Schema:"
   ]
  },
  {
   "cell_type": "markdown",
   "id": "78938fbc",
   "metadata": {
    "id": "78938fbc"
   },
   "source": [
    "![e_commerce%20_schema.png](attachment:e_commerce%20_schema.png)"
   ]
  },
  {
   "cell_type": "markdown",
   "id": "d9abe6c7",
   "metadata": {
    "id": "d9abe6c7"
   },
   "source": [
    "### Load Required Libraries"
   ]
  },
  {
   "cell_type": "code",
   "execution_count": 2,
   "id": "428d4d9a",
   "metadata": {},
   "outputs": [
    {
     "name": "stdout",
     "output_type": "stream",
     "text": [
      "Collecting mysql-connector-python\n",
      "  Obtaining dependency information for mysql-connector-python from https://files.pythonhosted.org/packages/d9/91/007a0d60fee8db4f7385075dc50bf62d2d359b417b374ec06b06ce6c2d64/mysql_connector_python-8.3.0-cp311-cp311-win_amd64.whl.metadata\n",
      "  Downloading mysql_connector_python-8.3.0-cp311-cp311-win_amd64.whl.metadata (2.0 kB)\n",
      "Downloading mysql_connector_python-8.3.0-cp311-cp311-win_amd64.whl (15.4 MB)\n",
      "   ---------------------------------------- 0.0/15.4 MB ? eta -:--:--\n",
      "   ---------------------------------------- 0.0/15.4 MB ? eta -:--:--\n",
      "   ---------------------------------------- 0.0/15.4 MB ? eta -:--:--\n",
      "   ---------------------------------------- 0.1/15.4 MB 2.1 MB/s eta 0:00:08\n",
      "   - -------------------------------------- 0.5/15.4 MB 4.7 MB/s eta 0:00:04\n",
      "   -- ------------------------------------- 1.0/15.4 MB 6.1 MB/s eta 0:00:03\n",
      "   --- ------------------------------------ 1.2/15.4 MB 5.9 MB/s eta 0:00:03\n",
      "   ---- ----------------------------------- 1.7/15.4 MB 6.2 MB/s eta 0:00:03\n",
      "   ----- ---------------------------------- 1.9/15.4 MB 6.5 MB/s eta 0:00:03\n",
      "   ----- ---------------------------------- 2.3/15.4 MB 6.7 MB/s eta 0:00:02\n",
      "   ------ --------------------------------- 2.7/15.4 MB 6.8 MB/s eta 0:00:02\n",
      "   ------- -------------------------------- 3.0/15.4 MB 6.8 MB/s eta 0:00:02\n",
      "   -------- ------------------------------- 3.3/15.4 MB 6.8 MB/s eta 0:00:02\n",
      "   --------- ------------------------------ 3.7/15.4 MB 6.9 MB/s eta 0:00:02\n",
      "   ---------- ----------------------------- 3.9/15.4 MB 6.8 MB/s eta 0:00:02\n",
      "   ----------- ---------------------------- 4.3/15.4 MB 6.9 MB/s eta 0:00:02\n",
      "   ------------ --------------------------- 4.7/15.4 MB 6.8 MB/s eta 0:00:02\n",
      "   ------------- -------------------------- 5.0/15.4 MB 7.0 MB/s eta 0:00:02\n",
      "   ------------- -------------------------- 5.3/15.4 MB 6.9 MB/s eta 0:00:02\n",
      "   -------------- ------------------------- 5.6/15.4 MB 6.8 MB/s eta 0:00:02\n",
      "   --------------- ------------------------ 6.0/15.4 MB 7.0 MB/s eta 0:00:02\n",
      "   ---------------- ----------------------- 6.3/15.4 MB 6.8 MB/s eta 0:00:02\n",
      "   ----------------- ---------------------- 6.6/15.4 MB 7.0 MB/s eta 0:00:02\n",
      "   ------------------ --------------------- 7.0/15.4 MB 7.0 MB/s eta 0:00:02\n",
      "   ------------------- -------------------- 7.3/15.4 MB 7.0 MB/s eta 0:00:02\n",
      "   ------------------- -------------------- 7.6/15.4 MB 7.0 MB/s eta 0:00:02\n",
      "   -------------------- ------------------- 7.9/15.4 MB 7.0 MB/s eta 0:00:02\n",
      "   --------------------- ------------------ 8.2/15.4 MB 7.0 MB/s eta 0:00:02\n",
      "   ---------------------- ----------------- 8.6/15.4 MB 6.9 MB/s eta 0:00:01\n",
      "   ----------------------- ---------------- 8.9/15.4 MB 7.1 MB/s eta 0:00:01\n",
      "   ------------------------ --------------- 9.3/15.4 MB 7.0 MB/s eta 0:00:01\n",
      "   ------------------------- -------------- 9.6/15.4 MB 7.0 MB/s eta 0:00:01\n",
      "   ------------------------- -------------- 10.0/15.4 MB 7.1 MB/s eta 0:00:01\n",
      "   -------------------------- ------------- 10.2/15.4 MB 7.0 MB/s eta 0:00:01\n",
      "   --------------------------- ------------ 10.5/15.4 MB 7.1 MB/s eta 0:00:01\n",
      "   --------------------------- ------------ 10.7/15.4 MB 7.0 MB/s eta 0:00:01\n",
      "   ---------------------------- ----------- 11.0/15.4 MB 7.0 MB/s eta 0:00:01\n",
      "   ----------------------------- ---------- 11.2/15.4 MB 6.9 MB/s eta 0:00:01\n",
      "   ----------------------------- ---------- 11.4/15.4 MB 6.8 MB/s eta 0:00:01\n",
      "   ------------------------------ --------- 11.7/15.4 MB 6.8 MB/s eta 0:00:01\n",
      "   ------------------------------- -------- 12.0/15.4 MB 6.8 MB/s eta 0:00:01\n",
      "   ------------------------------- -------- 12.2/15.4 MB 6.6 MB/s eta 0:00:01\n",
      "   -------------------------------- ------- 12.4/15.4 MB 6.5 MB/s eta 0:00:01\n",
      "   -------------------------------- ------- 12.5/15.4 MB 6.4 MB/s eta 0:00:01\n",
      "   -------------------------------- ------- 12.6/15.4 MB 6.3 MB/s eta 0:00:01\n",
      "   --------------------------------- ------ 12.7/15.4 MB 6.2 MB/s eta 0:00:01\n",
      "   --------------------------------- ------ 12.8/15.4 MB 6.0 MB/s eta 0:00:01\n",
      "   --------------------------------- ------ 12.9/15.4 MB 6.0 MB/s eta 0:00:01\n",
      "   --------------------------------- ------ 13.0/15.4 MB 5.8 MB/s eta 0:00:01\n",
      "   ---------------------------------- ----- 13.2/15.4 MB 5.7 MB/s eta 0:00:01\n",
      "   ---------------------------------- ----- 13.3/15.4 MB 5.6 MB/s eta 0:00:01\n",
      "   ---------------------------------- ----- 13.4/15.4 MB 5.5 MB/s eta 0:00:01\n",
      "   ----------------------------------- ---- 13.5/15.4 MB 5.5 MB/s eta 0:00:01\n",
      "   ----------------------------------- ---- 13.6/15.4 MB 5.3 MB/s eta 0:00:01\n",
      "   ----------------------------------- ---- 13.8/15.4 MB 5.2 MB/s eta 0:00:01\n",
      "   ----------------------------------- ---- 13.9/15.4 MB 5.2 MB/s eta 0:00:01\n",
      "   ------------------------------------ --- 14.0/15.4 MB 5.1 MB/s eta 0:00:01\n",
      "   ------------------------------------ --- 14.1/15.4 MB 5.0 MB/s eta 0:00:01\n",
      "   ------------------------------------ --- 14.2/15.4 MB 5.0 MB/s eta 0:00:01\n",
      "   ------------------------------------- -- 14.3/15.4 MB 4.9 MB/s eta 0:00:01\n",
      "   ------------------------------------- -- 14.4/15.4 MB 4.8 MB/s eta 0:00:01\n",
      "   ------------------------------------- -- 14.6/15.4 MB 4.7 MB/s eta 0:00:01\n",
      "   -------------------------------------- - 14.7/15.4 MB 4.6 MB/s eta 0:00:01\n",
      "   -------------------------------------- - 14.8/15.4 MB 4.6 MB/s eta 0:00:01\n",
      "   ---------------------------------------  15.1/15.4 MB 4.6 MB/s eta 0:00:01\n",
      "   ---------------------------------------  15.3/15.4 MB 4.5 MB/s eta 0:00:01\n",
      "   ---------------------------------------  15.4/15.4 MB 4.5 MB/s eta 0:00:01\n",
      "   ---------------------------------------- 15.4/15.4 MB 4.5 MB/s eta 0:00:00\n",
      "Installing collected packages: mysql-connector-python\n",
      "Successfully installed mysql-connector-python-8.3.0\n"
     ]
    }
   ],
   "source": [
    "!pip install mysql-connector-python\n"
   ]
  },
  {
   "cell_type": "code",
   "execution_count": 3,
   "id": "28ef3e4f",
   "metadata": {},
   "outputs": [
    {
     "name": "stdout",
     "output_type": "stream",
     "text": [
      "Requirement already satisfied: pandas in c:\\users\\shweta\\anaconda3\\lib\\site-packages (2.0.3)\n",
      "Requirement already satisfied: python-dateutil>=2.8.2 in c:\\users\\shweta\\anaconda3\\lib\\site-packages (from pandas) (2.8.2)\n",
      "Requirement already satisfied: pytz>=2020.1 in c:\\users\\shweta\\anaconda3\\lib\\site-packages (from pandas) (2023.3.post1)\n",
      "Requirement already satisfied: tzdata>=2022.1 in c:\\users\\shweta\\anaconda3\\lib\\site-packages (from pandas) (2023.3)\n",
      "Requirement already satisfied: numpy>=1.21.0 in c:\\users\\shweta\\anaconda3\\lib\\site-packages (from pandas) (1.24.3)\n",
      "Requirement already satisfied: six>=1.5 in c:\\users\\shweta\\anaconda3\\lib\\site-packages (from python-dateutil>=2.8.2->pandas) (1.16.0)\n"
     ]
    }
   ],
   "source": [
    "!pip install pandas\n"
   ]
  },
  {
   "cell_type": "code",
   "execution_count": 9,
   "id": "78315b8b",
   "metadata": {},
   "outputs": [],
   "source": [
    "import mysql.connector\n",
    "import pandas as pd\n"
   ]
  },
  {
   "cell_type": "markdown",
   "id": "d7d7fd5c",
   "metadata": {
    "id": "d7d7fd5c"
   },
   "source": [
    "### Connect to DB using Mysql-connector-python package"
   ]
  },
  {
   "cell_type": "code",
   "execution_count": null,
   "id": "b3aabb45",
   "metadata": {},
   "outputs": [],
   "source": [
    "# Lets make a connection\n",
    "connection = mysql.connector.connect(host = \"localhost\",\n",
    "                                     user = \"root\",\n",
    "                                     passwd =\"12345\")\n",
    "\n",
    "# creating a cursor object\n",
    "cursorObject = connection.cursor()\n",
    "cursorObject\n"
   ]
  },
  {
   "cell_type": "markdown",
   "id": "9d55e510",
   "metadata": {
    "id": "9d55e510"
   },
   "source": [
    "### You are required to create a database named 'e_commerce'"
   ]
  },
  {
   "cell_type": "code",
   "execution_count": null,
   "id": "d4dca90b",
   "metadata": {},
   "outputs": [],
   "source": [
    "curr.execute(\"DROP TABLE IF EXISTS SUPPLIER\")\n",
    "curr.execute(\"DROP TABLE IF EXISTS CUSTOMER\")\n",
    "curr.execute(\"DROP TABLE IF EXISTS CATEGORY\")\n",
    "curr.execute(\"DROP TABLE IF EXISTS PRODUCT\")\n",
    "curr.execute(\"DROP TABLE IF EXISTS PRODUCT_DETAILS\")\n",
    "\n",
    "\n",
    "sql ='''CREATE TABLE SUPPLIER(SUPP_ID int primary key, SUPP_NAME varchar(50), SUPP_CITY varchar(50), SUPP_PHONE varchar(10))'''\n",
    "\n",
    "sql1='''CREATE TABLE CUSTOMER(CUS_ID INT NOT NULL, CUS_NAME VARCHAR(20) NULL DEFAULT NULL, CUS_PHONE VARCHAR(10), CUS_CITY varchar(30) ,CUS_GENDER CHAR,PRIMARY KEY (CUS_ID))\n",
    "'''\n",
    "sql2='''\n",
    "CREATE TABLE category(CAT_ID INT NOT NULL, CAT_NAME VARCHAR(20) NULL DEFAULT NULL,PRIMARY KEY (CAT_ID))\n",
    "'''\n",
    "sql3='''\n",
    "CREATE TABLE product(PRO_ID INT NOT NULL, PRO_NAME VARCHAR(20) NULL DEFAULT NULL, PRO_DESC VARCHAR(60) NULL DEFAULT NULL, CAT_ID INT NOT NULL,PRIMARY KEY (PRO_ID),FOREIGN KEY (CAT_ID) REFERENCES CATEGORY (CAT_ID))\n",
    "'''\n",
    "sql4='''\n",
    "CREATE TABLE product_details (PROD_ID INT NOT NULL, PRO_ID INT NOT NULL, SUPP_ID INT NOT NULL, PROD_PRICE INT NOT NULL,PRIMARY KEY (PROD_ID),FOREIGN KEY (PRO_ID) REFERENCES PRODUCT (PRO_ID), FOREIGN KEY (SUPP_ID) REFERENCES SUPPLIER(SUPP_ID))\n",
    "'''\n",
    "\n",
    "\n",
    "curr.execute(sql)\n",
    "curr.execute(sql1)\n",
    "curr.execute(sql2)\n",
    "curr.execute(sql3)\n",
    "curr.execute(sql4)\n"
   ]
  },
  {
   "cell_type": "markdown",
   "id": "480dc986",
   "metadata": {
    "id": "480dc986"
   },
   "source": [
    "### Q1. Create tables for supplier, customer, category, product, productDetails, order, rating to store the data for the E-commerce with the schema definition given below.\n",
    "\n",
    "\n",
    "- **`supplier`**(SUPP_ID int primary key, SUPP_NAME varchar(50), SUPP_CITY varchar(50), SUPP_PHONE varchar(10))\n",
    "\n",
    "\n",
    "- **`customer`** (CUS_ID INT NOT NULL, CUS_NAME VARCHAR(20) NULL DEFAULT NULL, CUS_PHONE VARCHAR(10), CUS_CITY varchar(30) ,CUS_GENDER CHAR,PRIMARY KEY (CUS_ID))\n",
    "\n",
    "\n",
    "- **`category`** (CAT_ID INT NOT NULL, CAT_NAME VARCHAR(20) NULL DEFAULT NULL,PRIMARY KEY (CAT_ID))\n",
    "\n",
    "\n",
    "- **`product`** (PRO_ID INT NOT NULL, PRO_NAME VARCHAR(20) NULL DEFAULT NULL, PRO_DESC VARCHAR(60) NULL DEFAULT NULL, CAT_ID INT NOT NULL,PRIMARY KEY (PRO_ID),FOREIGN KEY (CAT_ID) REFERENCES CATEGORY (CAT_ID))\n",
    "\n",
    "\n",
    "- **`product_details`** (PROD_ID INT NOT NULL, PRO_ID INT NOT NULL, SUPP_ID INT NOT NULL, PROD_PRICE INT NOT NULL,\n",
    "  PRIMARY KEY (PROD_ID),FOREIGN KEY (PRO_ID) REFERENCES PRODUCT (PRO_ID), FOREIGN KEY (SUPP_ID) REFERENCES SUPPLIER(SUPP_ID))\n",
    "  \n",
    "  \n",
    "- **`order`** (ORD_ID INT NOT NULL, ORD_AMOUNT INT NOT NULL, ORD_DATE DATE, CUS_ID INT NOT NULL, PROD_ID INT NOT NULL,PRIMARY KEY (ORD_ID),FOREIGN KEY (CUS_ID) REFERENCES CUSTOMER(CUS_ID),FOREIGN KEY (PROD_ID) REFERENCES PRODUCT_DETAILS(PROD_ID))\n",
    "\n",
    "\n",
    "- **`rating`** (RAT_ID INT NOT NULL, CUS_ID INT NOT NULL, SUPP_ID INT NOT NULL, RAT_RATSTARS INT NOT NULL,PRIMARY KEY (RAT_ID),FOREIGN KEY (SUPP_ID) REFERENCES SUPPLIER (SUPP_ID),FOREIGN KEY (CUS_ID) REFERENCES CUSTOMER(CUS_ID))"
   ]
  },
  {
   "cell_type": "code",
   "execution_count": null,
   "id": "967b718f",
   "metadata": {
    "id": "967b718f"
   },
   "outputs": [],
   "source": [
    "curr.execute(\"DROP TABLE IF EXISTS RATING\")\n",
    "curr.execute(\"DROP TABLE IF EXISTS ORDERS\")\n",
    "\n",
    "sql5='''CREATE TABLE orders (ORD_ID INT NOT NULL, ORD_AMOUNT INT NOT NULL, ORD_DATE DATE, CUS_ID INT NOT NULL, PROD_ID INT NOT NULL,PRIMARY KEY (ORD_ID),FOREIGN KEY (CUS_ID) REFERENCES CUSTOMER(CUS_ID),FOREIGN KEY (PROD_ID) REFERENCES PRODUCT_DETAILS(PROD_ID))\n",
    "'''\n",
    "sql6='''\n",
    "CREATE TABLE rating(RAT_ID INT NOT NULL, CUS_ID INT NOT NULL, SUPP_ID INT NOT NULL, RAT_RATSTARS INT NOT NULL,PRIMARY KEY (RAT_ID),FOREIGN KEY (SUPP_ID) REFERENCES SUPPLIER (SUPP_ID),FOREIGN KEY (CUS_ID) REFERENCES CUSTOMER(CUS_ID))\n",
    "'''\n",
    "curr.execute(sql5)\n",
    "curr.execute(sql6)\n"
   ]
  },
  {
   "cell_type": "markdown",
   "id": "1f653731",
   "metadata": {
    "id": "1f653731"
   },
   "source": [
    "### Q2. Insert the following data in the table created above\n",
    "#### `Note:` If you are getting any error while inserting the data into tables, Kindly close the connection and reconnect\n",
    "\n",
    "#### Table:  supplier\n",
    "| SUPP_ID | SUPP_NAME | SUPP_CITY | SUPP_PHONE |\n",
    "| --- | --- | --- | --- | \n",
    "| 1 | Rajesh Retails | Delhi | 1234567890 |\n",
    "| 2 | Appario Ltd. | Mumbai | 258963147032 | \n",
    "| 3 | Knome products | Bangalore | 9785462315 |\n",
    "| 4 | Bansal Retails | Kochi | 8975463285 |\n",
    "| 5 | Mittal Ltd. | Lucknow | 7898456532 |"
   ]
  },
  {
   "cell_type": "code",
   "execution_count": null,
   "id": "f6dddd07",
   "metadata": {
    "id": "f6dddd07"
   },
   "outputs": [],
   "source": [
    "# insert into \"supplier\" table\n",
    "s=\"insert into supplier (supp_id,supp_name,supp_city,supp_phone) values (%s,%s,%s,%s)\"\n",
    "val=[\n",
    "    (1,'Rajesh Retails' ,'Delhi','1234567890'),\n",
    "    (2 , 'Appario Ltd.' , 'Mumbai' , '2589631470'),\n",
    "    (3 , 'Knome products' , 'Bangalore' , '9785462315'),\n",
    "    (4 , 'Bansal Retails' , 'Kochi' , '8975463285'),\n",
    "    (5 , 'Mittal Ltd.' , 'Lucknow' , '7898456532')\n",
    "]\n",
    "curr.executemany(s,val)\n",
    "conn.commit()\n"
   ]
  },
  {
   "cell_type": "markdown",
   "id": "e8a070a6",
   "metadata": {
    "id": "e8a070a6"
   },
   "source": [
    "#### Table:  customer\n",
    "| CUS_ID | CUS_NAME | SUPP_PHONE | CUS_CITY | CUS_GENDER\n",
    "| --- | --- | --- | --- | --- |\n",
    "| 1 | AAKASH | 9999999999 | DELHI | M |\n",
    "| 2 | AMAN | 9785463215 | NOIDA | M |\n",
    "| 3 | NEHA | 9999999998 | MUMBAI | F |\n",
    "| 4 | MEGHA | 9994562399 | KOLKATA | F |\n",
    "| 5 | PULKIT | 7895999999 | LUCKNOW | M |"
   ]
  },
  {
   "cell_type": "code",
   "execution_count": null,
   "id": "15a4ee87",
   "metadata": {
    "id": "15a4ee87"
   },
   "outputs": [],
   "source": [
    "# insert into \"customer\" table\n",
    "curr=conn.cursor()\n",
    "q=\"insert into customer (cus_id,cus_name,cus_phone,cus_city,cus_gender) values (%s,%s,%s,%s,%s)\"\n",
    "val1=[\n",
    "(1,  'AAKASH',  '9999999999',  'DELHI',  'M'),\n",
    " (2,  'AMAN',  '9785463215',  'NOIDA',  'M'),\n",
    " (3,  'NEHA',  '9999999998',  'MUMBAI',  'F'),\n",
    " (4,  'MEGHA', '9994562399',  'KOLKATA',  'F'),\n",
    " (5,  'PULKIT', '7895999999',  'LUCKNOW',  'M')\n",
    "]\n",
    "curr.executemany(q,val1)\n",
    "conn.commit()\n"
   ]
  },
  {
   "cell_type": "markdown",
   "id": "b68bfbc2",
   "metadata": {
    "id": "b68bfbc2"
   },
   "source": [
    "#### Table:  category\n",
    "| CAT_ID | CAT_NAME | \n",
    "| --- | --- |  \n",
    "| 1 | BOOKS |\n",
    "| 2 | GAMES |  \n",
    "| 3 | GROCERIES | \n",
    "| 4 | ELECTRONICS | \n",
    "| 5 | CLOTHES | "
   ]
  },
  {
   "cell_type": "code",
   "execution_count": null,
   "id": "05a00abc",
   "metadata": {
    "id": "05a00abc"
   },
   "outputs": [],
   "source": [
    "# insert into \"categoty\" table\n",
    "q=\"insert into category (cat_id,cat_name) values (%s,%s)\"\n",
    "val1=[\n",
    "(1,  'BOOKS'),\n",
    " (2,  'GAMES'),\n",
    " (3,  'GROCERIES'),\n",
    " (4,  'ELECTRONICS'),\n",
    " (5,  'CLOTHES'),\n",
    "]\n",
    "curr.executemany(q,val1)\n",
    "conn.commit()\n"
   ]
  },
  {
   "cell_type": "markdown",
   "id": "eb3bc592",
   "metadata": {
    "id": "eb3bc592"
   },
   "source": [
    "#### Table:  product\n",
    "| PRO_ID | PRO_NAME | PRO_DESC | CAT_ID |\n",
    "| --- | --- | --- | --- | \n",
    "| 1 | GTA V | DFJDJFDJFDJFDJFJF | 2 |\n",
    "| 2 | TSHIRT | DFDFJDFJDKFD | 5 | \n",
    "| 3 | ROG LAPTOP | DFNTTNTNTERND | 4 |\n",
    "| 4 | OATS | REURENTBTOTH | 3 |\n",
    "| 5 | HARRY POTTER | NBEMCTHTJTH | 1 |\n"
   ]
  },
  {
   "cell_type": "code",
   "execution_count": null,
   "id": "cdfbdfad",
   "metadata": {
    "id": "cdfbdfad"
   },
   "outputs": [],
   "source": [
    "# insert into \"product\" table\n",
    "q=\"insert into product (pro_id,pro_name,pro_desc,cat_id) values (%s,%s,%s,%s)\"\n",
    "val1=[\n",
    "(1,  'GTA V',  'DFJDJFDJFDJFDJFJF', 2),\n",
    " (2,  'TSHIRT',  'DFDFJDFJDKFD',  5),\n",
    " (3,  'ROG LAPTOP',  'DFNTTNTNTERND',  4),\n",
    " (4,  'OATS',  'REURENTBTOTH',3),\n",
    " (5,  'HARRY POTTER',  'NBEMCTHTJTH',  1)\n",
    "]\n",
    "curr.executemany(q,val1)\n",
    "conn.commit()\n"
   ]
  },
  {
   "cell_type": "markdown",
   "id": "cfa8a47d",
   "metadata": {
    "id": "cfa8a47d"
   },
   "source": [
    "#### Table:  product_details\n",
    "| PROD_ID | PRO_ID | SUPP_ID | PROD_PRICE |\n",
    "| --- | --- | --- | --- | \n",
    "| 1 | 1 | 2 | 1500 |\n",
    "| 2 | 3 | 5 | 30000 | \n",
    "| 3 | 5 | 1 | 3000 |\n",
    "| 4 | 2 | 3 | 2500 |\n",
    "| 5 | 4 | 1 | 1000 |"
   ]
  },
  {
   "cell_type": "code",
   "execution_count": null,
   "id": "c18ea964",
   "metadata": {
    "id": "c18ea964"
   },
   "outputs": [],
   "source": [
    "# insert into \"product_details\" table\n",
    "q=\"insert into product_details (prod_id,pro_id,supp_id,prod_price) values (%s,%s,%s,%s)\"\n",
    "val1=[\n",
    "(1,1,2,1500),\n",
    " (2,3,5,30000),\n",
    "    (3,5,1,3000),\n",
    "    (4,2,3,2500),\n",
    "    (5,4,1,1000)\n",
    "]\n",
    "curr.executemany(q,val1)\n",
    "conn.commit()\n",
    "\n"
   ]
  },
  {
   "cell_type": "markdown",
   "id": "1df49086",
   "metadata": {
    "id": "1df49086"
   },
   "source": [
    "#### Table:  orders\n",
    "| ORD_ID | ORD_AMOUNT | ORD_DATE | CUS_ID | PROD_ID\n",
    "| --- | --- | --- | --- | --- |\n",
    "| 20 | 1500 | 2021-10-12 | 3 | 5 |\n",
    "| 25 | 30500 | 2021-09-16 | 5 | 2 |\n",
    "| 26 | 2000 | 2021-10-05 | 1 | 1 |\n",
    "| 30 | 3500 | 2021-08-16 | 4 | 3 |\n",
    "| 50 | 2000 | 2021-10-06 | 2 | 1 |"
   ]
  },
  {
   "cell_type": "code",
   "execution_count": null,
   "id": "0d97dc92",
   "metadata": {
    "id": "0d97dc92"
   },
   "outputs": [],
   "source": [
    "# insert into \"orders\" table\n",
    "q=\"INSERT INTO orders (ORD_ID, ORD_AMOUNT, ORD_DATE, CUS_ID, PROD_ID) VALUES (%s, %s, %s, %s, %s)\"\n",
    "val1 = [(20,1500,\"2021-10-12\",3,5),\n",
    "(25,30500,\"2021-09-16\",5,2),\n",
    "(26,2000,\"2021-10-05\",1,1),\n",
    "(30,3500,\"2021-08-16\",4,3),\n",
    "(50,2000,\"2021-10-06\",2,1)]\n",
    "curr.executemany(q,val1)\n",
    "conn.commit()\n"
   ]
  },
  {
   "cell_type": "markdown",
   "id": "75b8ce5f",
   "metadata": {
    "id": "75b8ce5f"
   },
   "source": [
    "#### Table: rating\n",
    "| RAT_ID | CUS_ID | SUPP_ID | RAT_RATSTARS |\n",
    "| --- | --- | --- | --- | \n",
    "| 1 | 2 | 2 | 4 |\n",
    "| 2 | 3 | 4 | 3 | \n",
    "| 3 | 5 | 1 | 5 |\n",
    "| 4 | 1 | 3 | 2 |\n",
    "| 5 | 4 | 5 | 4 |"
   ]
  },
  {
   "cell_type": "code",
   "execution_count": null,
   "id": "6d5f1e18",
   "metadata": {
    "id": "6d5f1e18"
   },
   "outputs": [],
   "source": [
    "# insert into \"rating\" table\n",
    "q = \"INSERT INTO rating (RAT_ID, CUS_ID, SUPP_ID, RAT_RATSTARS) VALUES (%s, %s, %s, %s)\"\n",
    "val1 = [(1,2,2,4),\n",
    "(2,3,4,3),\n",
    "(3,5,1,5),\n",
    "(4,1,3,2),\n",
    "(5,4,5,4)]\n",
    "curr.executemany(q,val1)\n",
    "conn.commit()\n"
   ]
  },
  {
   "cell_type": "markdown",
   "id": "b59361c3",
   "metadata": {
    "id": "b59361c3"
   },
   "source": [
    "### Q3) Display the number of the customer group by their genders who have placed any order of amount greater than or equal to Rs.3000."
   ]
  },
  {
   "cell_type": "code",
   "execution_count": null,
   "id": "8a104729",
   "metadata": {},
   "outputs": [],
   "source": [
    "conn.close()\n",
    "conn=mysql.connector.connect(host='localhost',\n",
    "                        user='root',\n",
    "                        password='12345',\n",
    "                        database='e_commerce')\n",
    "curr=conn.cursor(buffered=True)\n",
    "Query3= \"\"\"select customer.cus_gender,count(customer.cus_gender) as count\n",
    "from customer inner join `orders` on customer.cus_id=`orders`.cus_id\n",
    "where `orders`.ord_amount>=3000 group by customer.cus_gender;\"\"\"\n",
    "curr.execute(Query3)\n",
    "output = curr.fetchall()\n",
    "output_df = pd.DataFrame(output, columns=['CUS_GENDER','COUNT'])\n",
    "output_df\n"
   ]
  },
  {
   "cell_type": "markdown",
   "id": "e49e04f5",
   "metadata": {
    "id": "e49e04f5"
   },
   "source": [
    "### Q4) Display all the order along with product name ordered by a customer having Customer_Id=2;"
   ]
  },
  {
   "cell_type": "code",
   "execution_count": null,
   "id": "9dcb7883",
   "metadata": {
    "id": "9dcb7883"
   },
   "outputs": [],
   "source": [
    " \"\"\"select `orders`.*,product.pro_name from `orders` ,product_details,product\n",
    "where `orders`.cus_id=2 and `orders`.prod_id=product_details.prod_id and product_details.pro_id=product.pro_id;\"\"\"\n",
    "curr.execute(Query4)\n",
    "output = curr.fetchall()\n",
    "output_df = pd.DataFrame(output, columns=['ORD_ID','ORD_AMOUNT','ORD_DATE','CUS_ID','PROD_ID','PRO_NAME'])\n",
    "output_df\n"
   ]
  },
  {
   "cell_type": "markdown",
   "id": "3a33398e",
   "metadata": {
    "id": "3a33398e"
   },
   "source": [
    "### Q5) Display the Supplier details who can supply more than one product."
   ]
  },
  {
   "cell_type": "code",
   "execution_count": null,
   "id": "e933b979",
   "metadata": {
    "id": "e933b979"
   },
   "outputs": [],
   "source": [
    " \"\"\"select supplier.* from supplier,product_details\n",
    "where supplier.supp_id in\n",
    "(select product_details.supp_id from product_details\n",
    "group by product_details.supp_id having count(product_details.supp_id)>1)\n",
    "group by supplier.supp_id;\"\"\"\n",
    "curr.execute(Query5)\n",
    "output = curr.fetchall()\n",
    "output_df = pd.DataFrame(output, columns=['SUPP_ID','SUPP_NAME','SUPP_CITY','SUPP_PHONE'])\n",
    "output_df\n"
   ]
  },
  {
   "cell_type": "markdown",
   "id": "5fd319ef",
   "metadata": {
    "id": "5fd319ef"
   },
   "source": [
    "### Q6) Find the category of the product whose order amount is minimum."
   ]
  },
  {
   "cell_type": "code",
   "execution_count": null,
   "id": "06f5cb51",
   "metadata": {
    "id": "06f5cb51"
   },
   "outputs": [],
   "source": [
    " \"\"\"SELECT CATEGORY.* FROM `ORDERS`\n",
    "INNER JOIN PRODUCT_DETAILS ON `ORDERS`.PROD_ID = PRODUCT_DETAILS.PROD_ID\n",
    "INNER JOIN PRODUCT ON PRODUCT.PRO_ID = PRODUCT_DETAILS.PRO_ID\n",
    "INNER JOIN CATEGORY ON CATEGORY.CAT_ID = PRODUCT.CAT_ID\n",
    "WHERE `ORDERS`.ORD_AMOUNT = (SELECT MIN(ORD_AMOUNT) FROM `ORDERS`);\"\"\"\n",
    "curr.execute(Query06)\n",
    "output = curr.fetchall()\n",
    "output_df = pd.DataFrame(output, columns=['CAT_ID','CAT_NAME'])\n",
    "output_df\n"
   ]
  },
  {
   "cell_type": "markdown",
   "id": "107102d4",
   "metadata": {
    "id": "107102d4"
   },
   "source": [
    "### Q7) Display the Id and Name of the Product ordered after “2021-10-05”."
   ]
  },
  {
   "cell_type": "code",
   "execution_count": null,
   "id": "5d3fc7e8",
   "metadata": {
    "id": "5d3fc7e8"
   },
   "outputs": [],
   "source": [
    "\"\"\"select product.pro_id,product.pro_name\n",
    "from `orders` inner join product_details on product_details.prod_id=`orders`.prod_id\n",
    "inner join product on product.pro_id=product_details.pro_id where `orders`.ord_date>\"2021-10-05\";\"\"\"\n",
    "curr.execute(Query7)\n",
    "output = curr.fetchall()\n",
    "output_df = pd.DataFrame(output, columns=['PRO_ID','PRO_NAME'])\n",
    "output_df\n"
   ]
  },
  {
   "cell_type": "markdown",
   "id": "bdce7167",
   "metadata": {
    "id": "bdce7167"
   },
   "source": [
    "### Q8) Print the top 3 supplier name and id and rating on the basis of their rating along with the customer name who has given the rating."
   ]
  },
  {
   "cell_type": "code",
   "execution_count": null,
   "id": "fa0cbe44",
   "metadata": {
    "id": "fa0cbe44"
   },
   "outputs": [],
   "source": [
    " \"\"\"select supplier.supp_id,supplier.supp_name,customer.cus_name,rating.rat_ratstars\n",
    "from rating inner join supplier on rating.supp_id=supplier.supp_id\n",
    "inner join customer on rating.cus_id=customer.cus_id order by rating.rat_ratstars desc limit 3;\"\"\"\n",
    "curr.execute(Query8)\n",
    "output = curr.fetchall()\n",
    "output_df = pd.DataFrame(output, columns=['SUPP_ID','SUPP_NAME','CUS_NAME','RAT_RATSTARS'])\n",
    "output_df\n"
   ]
  },
  {
   "cell_type": "markdown",
   "id": "346ec2a1",
   "metadata": {
    "id": "346ec2a1"
   },
   "source": [
    "### Q9) Display customer name and gender whose names start or end with character 'A'."
   ]
  },
  {
   "cell_type": "code",
   "execution_count": null,
   "id": "e571b5fd",
   "metadata": {
    "id": "e571b5fd"
   },
   "outputs": [],
   "source": [
    "\"\"\"select customer.cus_name ,customer.cus_gender from customer where customer.cus_name like 'A%' or customer.cus_name like '%A';\"\"\"\n",
    "curr.execute(Query9)\n",
    "output = curr.fetchall()\n",
    "output_df = pd.DataFrame(output, columns=['CUS_NAME','CUS_GENDER'])\n",
    "output_df\n"
   ]
  },
  {
   "cell_type": "markdown",
   "id": "d0b01f77",
   "metadata": {
    "id": "d0b01f77"
   },
   "source": [
    "### Q10) Display the total order amount of the male customers."
   ]
  },
  {
   "cell_type": "code",
   "execution_count": null,
   "id": "c3fa76e3",
   "metadata": {
    "id": "c3fa76e3"
   },
   "outputs": [],
   "source": [
    " \"\"\"SELECT SUM(ORD_AMOUNT) AS TOTAL FROM (\n",
    "SELECT O.ORD_AMOUNT,O.CUS_ID,C.CUS_GENDER\n",
    "FROM orders O\n",
    "INNER JOIN customer C\n",
    "ON O.CUS_ID = C.CUS_ID\n",
    "WHERE C.CUS_GENDER='M') T;\"\"\"\n",
    "curr.execute(Query10)\n",
    "output = curr.fetchall()\n",
    "output_df = pd.DataFrame(output)\n",
    "output_df\n"
   ]
  },
  {
   "cell_type": "markdown",
   "id": "ff8a9971",
   "metadata": {
    "id": "ff8a9971"
   },
   "source": [
    "### Q11) Display all the Customers left outer join with  the orders"
   ]
  },
  {
   "cell_type": "code",
   "execution_count": null,
   "id": "a340c6d6",
   "metadata": {
    "id": "a340c6d6"
   },
   "outputs": [],
   "source": [
    "\"\"\"SELECT * FROM e_commerce.customer C\n",
    "LEFT OUTER JOIN e_commerce.orders O\n",
    "ON C.CUS_ID=O.CUS_ID;\"\"\"\n",
    "curr.execute(Query11)\n",
    "output=curr.fetchall()\n",
    "output_df = pd.DataFrame(output)\n",
    "output_df\n",
    "\n",
    "conn.close()\n"
   ]
  },
  {
   "cell_type": "markdown",
   "id": "0a72afe3",
   "metadata": {
    "id": "0a72afe3"
   },
   "source": [
    "**NOTE:** Always close an open connection once you are done with the database operations"
   ]
  },
  {
   "cell_type": "markdown",
   "id": "8c88f479",
   "metadata": {
    "id": "8c88f479"
   },
   "source": [
    "## Happy Learning:)"
   ]
  }
 ],
 "metadata": {
  "colab": {
   "name": "Lab Session  -  E-Commerce.ipynb",
   "provenance": []
  },
  "kernelspec": {
   "display_name": "Python 3 (ipykernel)",
   "language": "python",
   "name": "python3"
  },
  "language_info": {
   "codemirror_mode": {
    "name": "ipython",
    "version": 3
   },
   "file_extension": ".py",
   "mimetype": "text/x-python",
   "name": "python",
   "nbconvert_exporter": "python",
   "pygments_lexer": "ipython3",
   "version": "3.11.5"
  }
 },
 "nbformat": 4,
 "nbformat_minor": 5
}
